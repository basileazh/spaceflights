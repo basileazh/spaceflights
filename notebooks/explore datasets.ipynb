{
 "cells": [
  {
   "cell_type": "code",
   "execution_count": 1,
   "metadata": {
    "collapsed": true,
    "pycharm": {
     "name": "#%%\n"
    }
   },
   "outputs": [],
   "source": [
    "import pandas as pd"
   ]
  },
  {
   "cell_type": "code",
   "execution_count": 7,
   "outputs": [
    {
     "name": "stdout",
     "output_type": "stream",
     "text": [
      "engines                    float64\n",
      "passenger_capacity           int64\n",
      "crew                       float64\n",
      "d_check_complete             int64\n",
      "moon_clearance_complete      int64\n",
      "iata_approved                int64\n",
      "company_rating             float64\n",
      "review_scores_rating       float64\n",
      "dtype: object\n"
     ]
    },
    {
     "data": {
      "text/plain": "         engines  passenger_capacity  crew  d_check_complete  \\\n740550       1.0                   4   1.0                 1   \n444139       5.0                   8   6.0                 1   \n1006101      3.0                   4   3.0                 1   \n1199039      3.0                   6   3.0                 1   \n1579578      2.0                   8   5.0                 0   \n\n         moon_clearance_complete  iata_approved  company_rating  \\\n740550                         0              0             1.0   \n444139                         0              0             1.0   \n1006101                        0              0             1.0   \n1199039                        0              0             1.0   \n1579578                        0              1             1.0   \n\n         review_scores_rating  \n740550                  100.0  \n444139                   90.0  \n1006101                 100.0  \n1199039                  90.0  \n1579578                  91.0  ",
      "text/html": "<div>\n<style scoped>\n    .dataframe tbody tr th:only-of-type {\n        vertical-align: middle;\n    }\n\n    .dataframe tbody tr th {\n        vertical-align: top;\n    }\n\n    .dataframe thead th {\n        text-align: right;\n    }\n</style>\n<table border=\"1\" class=\"dataframe\">\n  <thead>\n    <tr style=\"text-align: right;\">\n      <th></th>\n      <th>engines</th>\n      <th>passenger_capacity</th>\n      <th>crew</th>\n      <th>d_check_complete</th>\n      <th>moon_clearance_complete</th>\n      <th>iata_approved</th>\n      <th>company_rating</th>\n      <th>review_scores_rating</th>\n    </tr>\n  </thead>\n  <tbody>\n    <tr>\n      <th>740550</th>\n      <td>1.0</td>\n      <td>4</td>\n      <td>1.0</td>\n      <td>1</td>\n      <td>0</td>\n      <td>0</td>\n      <td>1.0</td>\n      <td>100.0</td>\n    </tr>\n    <tr>\n      <th>444139</th>\n      <td>5.0</td>\n      <td>8</td>\n      <td>6.0</td>\n      <td>1</td>\n      <td>0</td>\n      <td>0</td>\n      <td>1.0</td>\n      <td>90.0</td>\n    </tr>\n    <tr>\n      <th>1006101</th>\n      <td>3.0</td>\n      <td>4</td>\n      <td>3.0</td>\n      <td>1</td>\n      <td>0</td>\n      <td>0</td>\n      <td>1.0</td>\n      <td>100.0</td>\n    </tr>\n    <tr>\n      <th>1199039</th>\n      <td>3.0</td>\n      <td>6</td>\n      <td>3.0</td>\n      <td>1</td>\n      <td>0</td>\n      <td>0</td>\n      <td>1.0</td>\n      <td>90.0</td>\n    </tr>\n    <tr>\n      <th>1579578</th>\n      <td>2.0</td>\n      <td>8</td>\n      <td>5.0</td>\n      <td>0</td>\n      <td>0</td>\n      <td>1</td>\n      <td>1.0</td>\n      <td>91.0</td>\n    </tr>\n  </tbody>\n</table>\n</div>"
     },
     "execution_count": 7,
     "metadata": {},
     "output_type": "execute_result"
    }
   ],
   "source": [
    "X_train = pd.read_parquet(f\"../data/05_model_input/X_train.pq\")\n",
    "print(X_train.dtypes)\n",
    "X_train.head()"
   ],
   "metadata": {
    "collapsed": false,
    "pycharm": {
     "name": "#%%\n"
    }
   }
  },
  {
   "cell_type": "code",
   "execution_count": 5,
   "outputs": [
    {
     "name": "stdout",
     "output_type": "stream",
     "text": [
      "price    float64\n",
      "dtype: object\n"
     ]
    },
    {
     "data": {
      "text/plain": "          price\n740550   2872.0\n444139   4003.0\n1006101  3574.0\n1199039  4107.0\n1579578  2690.0",
      "text/html": "<div>\n<style scoped>\n    .dataframe tbody tr th:only-of-type {\n        vertical-align: middle;\n    }\n\n    .dataframe tbody tr th {\n        vertical-align: top;\n    }\n\n    .dataframe thead th {\n        text-align: right;\n    }\n</style>\n<table border=\"1\" class=\"dataframe\">\n  <thead>\n    <tr style=\"text-align: right;\">\n      <th></th>\n      <th>price</th>\n    </tr>\n  </thead>\n  <tbody>\n    <tr>\n      <th>740550</th>\n      <td>2872.0</td>\n    </tr>\n    <tr>\n      <th>444139</th>\n      <td>4003.0</td>\n    </tr>\n    <tr>\n      <th>1006101</th>\n      <td>3574.0</td>\n    </tr>\n    <tr>\n      <th>1199039</th>\n      <td>4107.0</td>\n    </tr>\n    <tr>\n      <th>1579578</th>\n      <td>2690.0</td>\n    </tr>\n  </tbody>\n</table>\n</div>"
     },
     "execution_count": 5,
     "metadata": {},
     "output_type": "execute_result"
    }
   ],
   "source": [
    "y_train = pd.read_parquet(f\"../data/05_model_input/y_train.pq\")\n",
    "print(y_train.dtypes)\n",
    "y_train.head()"
   ],
   "metadata": {
    "collapsed": false,
    "pycharm": {
     "name": "#%%\n"
    }
   }
  }
 ],
 "metadata": {
  "kernelspec": {
   "display_name": "Python 3",
   "language": "python",
   "name": "python3"
  },
  "language_info": {
   "codemirror_mode": {
    "name": "ipython",
    "version": 2
   },
   "file_extension": ".py",
   "mimetype": "text/x-python",
   "name": "python",
   "nbconvert_exporter": "python",
   "pygments_lexer": "ipython2",
   "version": "2.7.6"
  }
 },
 "nbformat": 4,
 "nbformat_minor": 0
}